{
  "nbformat": 4,
  "nbformat_minor": 0,
  "metadata": {
    "colab": {
      "provenance": [],
      "collapsed_sections": [
        "0XvkyULcq2YV",
        "pMTt4WIkteuL",
        "h36nP27IkFKn"
      ]
    },
    "kernelspec": {
      "name": "python3",
      "display_name": "Python 3"
    },
    "language_info": {
      "name": "python"
    },
    "accelerator": "GPU"
  },
  "cells": [
    {
      "cell_type": "code",
      "source": [
        "from google.colab import drive\n",
        "drive.mount('/content/gdrive')\n",
        "import sys    \n",
        "path_to_module = '/content/gdrive/MyDrive/TIP-IM'\n",
        "sys.path.append(path_to_module)"
      ],
      "metadata": {
        "colab": {
          "base_uri": "https://localhost:8080/"
        },
        "id": "TwndgRc7HCJ-",
        "outputId": "14d8c9ba-8030-4842-dafd-8dc745f6eff3"
      },
      "execution_count": null,
      "outputs": [
        {
          "output_type": "stream",
          "name": "stdout",
          "text": [
            "Drive already mounted at /content/gdrive; to attempt to forcibly remount, call drive.mount(\"/content/gdrive\", force_remount=True).\n"
          ]
        }
      ]
    },
    {
      "cell_type": "code",
      "source": [
        "%tensorflow_version 1.x"
      ],
      "metadata": {
        "id": "suBVGgRZOgXF",
        "colab": {
          "base_uri": "https://localhost:8080/"
        },
        "outputId": "90908a96-3a81-49c5-b3f0-da1eebe6f984"
      },
      "execution_count": null,
      "outputs": [
        {
          "output_type": "stream",
          "name": "stdout",
          "text": [
            "TensorFlow 1.x selected.\n"
          ]
        }
      ]
    },
    {
      "cell_type": "code",
      "source": [
        "!pip3 install numpy==1.16.2\n",
        "!pip3 install scipy==1.2.1"
      ],
      "metadata": {
        "colab": {
          "base_uri": "https://localhost:8080/"
        },
        "id": "Rog67q-pVRnD",
        "outputId": "5aac1b37-8d61-46b7-9844-5a608999d3db"
      },
      "execution_count": null,
      "outputs": [
        {
          "output_type": "stream",
          "name": "stdout",
          "text": [
            "Requirement already satisfied: numpy==1.16.2 in /usr/local/lib/python3.7/dist-packages (1.16.2)\n",
            "Requirement already satisfied: scipy==1.2.1 in /usr/local/lib/python3.7/dist-packages (1.2.1)\n",
            "Requirement already satisfied: numpy>=1.8.2 in /usr/local/lib/python3.7/dist-packages (from scipy==1.2.1) (1.16.2)\n"
          ]
        }
      ]
    },
    {
      "cell_type": "code",
      "source": [
        "from __future__ import absolute_import\n",
        "from __future__ import division\n",
        "from __future__ import print_function\n",
        "import numpy as np\n",
        "import random\n",
        "import torch\n",
        "import os\n",
        "import sys\n",
        "sys.path.append('align_methods')\n",
        "from align import align, re_align\n",
        "from utils import save_priv, cosdistance, inference\n",
        "import math\n",
        "import argparse\n",
        "from scipy.misc import imread\n",
        "from collections import OrderedDict\n",
        "from get_model import getmodel\n",
        "from tqdm import tqdm\n",
        "from input_diversify import input_diversity\n",
        "import cv2\n",
        "from config import threshold\n",
        "from torch.autograd import Variable\n",
        "from mmd import mmd_loss"
      ],
      "metadata": {
        "id": "urhzR6u6FeCK"
      },
      "execution_count": null,
      "outputs": []
    },
    {
      "cell_type": "code",
      "source": [
        "seed = 0"
      ],
      "metadata": {
        "id": "fsvW59shFg7P"
      },
      "execution_count": null,
      "outputs": []
    },
    {
      "cell_type": "code",
      "execution_count": null,
      "metadata": {
        "colab": {
          "base_uri": "https://localhost:8080/"
        },
        "id": "nZguBd_DDuwp",
        "outputId": "4e6446aa-be54-4fc0-a8cb-9e771990ee52"
      },
      "outputs": [
        {
          "output_type": "stream",
          "name": "stdout",
          "text": [
            "Load existing checkpoint\n"
          ]
        },
        {
          "output_type": "stream",
          "name": "stderr",
          "text": [
            "/usr/local/lib/python3.7/dist-packages/ipykernel_launcher.py:36: DeprecationWarning: `imread` is deprecated!\n",
            "`imread` is deprecated in SciPy 1.0.0, and will be removed in 1.2.0.\n",
            "Use ``imageio.imread`` instead.\n",
            "  0%|          | 0/10 [00:00<?, ?it/s]/usr/local/lib/python3.7/dist-packages/ipykernel_launcher.py:57: DeprecationWarning: `imread` is deprecated!\n",
            "`imread` is deprecated in SciPy 1.0.0, and will be removed in 1.2.0.\n",
            "Use ``imageio.imread`` instead.\n",
            "/usr/local/lib/python3.7/dist-packages/torch/nn/functional.py:4066: UserWarning: Default grid_sample and affine_grid behavior has changed to align_corners=False since 1.3.0. Please specify align_corners=True if the old behavior is desired. See the documentation of grid_sample for details.\n",
            "  \"Default grid_sample and affine_grid behavior has changed \"\n",
            "/usr/local/lib/python3.7/dist-packages/torch/nn/functional.py:4004: UserWarning: Default grid_sample and affine_grid behavior has changed to align_corners=False since 1.3.0. Please specify align_corners=True if the old behavior is desired. See the documentation of grid_sample for details.\n",
            "  \"Default grid_sample and affine_grid behavior has changed \"\n"
          ]
        },
        {
          "output_type": "stream",
          "name": "stdout",
          "text": [
            "WARNING:tensorflow:From /content/gdrive/MyDrive/TIP-IM/utils.py:33: The name tf.gfile.Open is deprecated. Please use tf.io.gfile.GFile instead.\n",
            "\n"
          ]
        },
        {
          "output_type": "stream",
          "name": "stderr",
          "text": [
            "100%|██████████| 10/10 [05:27<00:00, 32.71s/it]\n"
          ]
        }
      ],
      "source": [
        "def main():\n",
        "    model, img_shape = getmodel('ArcFace') # White-box Model 73-43\n",
        "    iters = 100\n",
        "    norm = 'l2'\n",
        "    gamma = 0.0007\n",
        "\n",
        "    cnt_pairs = 0\n",
        "    candidate_e = [12]\n",
        "    func = {\n",
        "        'gain1': Gain1,\n",
        "        'gain2': Gain2,\n",
        "        'gain3': Gain3\n",
        "        }\n",
        "    \n",
        "    # conduct attacker\n",
        "    attacker_persons = []\n",
        "    with open('/content/gdrive/MyDrive/TIP-IM/data/pairs.txt', 'r') as f:\n",
        "        for pair in f.readlines()[:250]:\n",
        "            attacker_person = pair.strip()\n",
        "            attacker_persons.append(attacker_person)\n",
        "            \n",
        "    random.seed(seed)\n",
        "    cnt = 0\n",
        "    batch_size = 1\n",
        "\n",
        "    # conduct targets, only 10 identities!\n",
        "    target_nums = 10\n",
        "    aligned_target_imgs = []\n",
        "    target_persons = []\n",
        "    with open('/content/gdrive/MyDrive/TIP-IM/targets/target_attacks.txt', 'r') as f:\n",
        "        for line in f.readlines():\n",
        "            target_person = line.strip()\n",
        "            target_persons.append(target_person)\n",
        "\n",
        "    for i in range(target_nums):\n",
        "        target_img = imread(target_persons[i]).astype(np.float32)\n",
        "        align_target_img, _= align(target_img)\n",
        "        align_target_img = cv2.resize(align_target_img, (img_shape[1], img_shape[0]))\n",
        "        aligned_target_imgs.append(align_target_img)\n",
        "    aligned_target_imgs = np.array(aligned_target_imgs)        \n",
        "\n",
        "    # extract features of targets\n",
        "    target_feas = inference(aligned_target_imgs, model, image_shape = img_shape)\n",
        "    target_feas = Variable(target_feas)\n",
        "    \n",
        "    # extract initial features of attackers\n",
        "    n = len(attacker_persons)\n",
        "    m = 1.0\n",
        "    for i in tqdm(range(0, n, batch_size)):\n",
        "        l, r = i, min(i + batch_size, n)\n",
        "        original_images = []\n",
        "        aligned_images = []\n",
        "        aligned_names = []\n",
        "        M = []\n",
        "        for j in range(l, r):\n",
        "            attack_name, id1, id2 = attacker_persons[j].split('\\t')\n",
        "            original_img = imread(\"/content/gdrive/MyDrive/TIP-IM/data/LFW/{}/{}_{:04d}.jpg\".format(attack_name, attack_name, int(id2))).astype(np.float32)\n",
        "            original_images.append(original_img)\n",
        "            align_img, tmpM = align(original_img)\n",
        "            align_img = cv2.resize(align_img, (img_shape[1], img_shape[0]))\n",
        "            aligned_images.append(align_img)\n",
        "            aligned_names.append(\"{}_{:04d}\".format(attack_name, int(id2)))\n",
        "            M.append(tmpM)\n",
        "        aligned_images = np.array(aligned_images)\n",
        "        input_init = torch.Tensor(aligned_images).cuda()\n",
        "        input_init = input_init.permute(0, 3, 1, 2)\n",
        "        init_feas = model.forward(input_init)\n",
        "        init_feas = Variable(init_feas)\n",
        "\n",
        "        # craft protected images \n",
        "        for epsilon in candidate_e:\n",
        "            alpha = 1.5 * epsilon / iters\n",
        "            inputs = torch.Tensor(aligned_images.copy()).cuda()\n",
        "            inputs = inputs.permute(0, 3, 1, 2)\n",
        "            sum_grad = torch.zeros_like(inputs)\n",
        "            min_img = torch.clamp(inputs - epsilon, min=0)\n",
        "            max_img = torch.clamp(inputs + epsilon, max=255)\n",
        "            adv_images = inputs.detach().clone().requires_grad_(True)\n",
        "            for iii in range(iters):\n",
        "                std_proj = random.uniform(0.01, 0.1)\n",
        "                std_rotate = random.uniform(0.01, 0.1)\n",
        "                tmp_advs = []\n",
        "                tmp_grads = []\n",
        "                tmp_losses = []\n",
        "                model.zero_grad()\n",
        "                # introduce input diversity for generalizaion\n",
        "                images = input_diversity(adv_images, std_proj, std_rotate)\n",
        "                adv_feas = model.forward(images)\n",
        "\n",
        "                # compute image-level natural loss by MMD. \n",
        "                loss_mmd = mmd_loss(adv_images.clone().reshape(batch_size,-1), \n",
        "                        inputs.clone().reshape(batch_size,-1))\n",
        "                \n",
        "                # search optimal target \n",
        "                for idx in range(target_nums):\n",
        "                    model.zero_grad()\n",
        "                    loss_i = torch.mean((adv_feas - init_feas) ** 2)\n",
        "                    loss_t = torch.mean((adv_feas - target_feas[idx]) ** 2)\n",
        "\n",
        "                    # total loss \n",
        "                    '''\n",
        "                    loss_mmd does not affect search direction of targets set, just for updating images.\n",
        "                    '''\n",
        "                    loss = loss_t - loss_i + gamma * loss_mmd\n",
        "   \n",
        "                    loss.backward(retain_graph = True)\n",
        "                    grad = adv_images.grad.data.clone()\n",
        "                    grad = grad / grad.abs().mean(dim=[1, 2, 3], keepdim=True)\n",
        "                    \n",
        "                    tmp_sum_grad = m * sum_grad.clone() + grad\n",
        "                    adv_images.grad.data.zero_()\n",
        "                    tmp_adv_images = adv_images.data.clone()\n",
        "                    # infty norm\n",
        "                    if norm == 'linf':\n",
        "                        tmp_adv_images = tmp_adv_images - torch.sign(tmp_sum_grad) * alpha\n",
        "                    elif norm == 'l2':\n",
        "                        factor = np.sqrt(np.prod(img_shape)* 3)\n",
        "                        grad2d = tmp_sum_grad.reshape((tmp_sum_grad.size(0), -1))\n",
        "                        gradnorm = grad2d.norm(p=2, dim=1, keepdim=True)\n",
        "                        grad_unit = grad2d / gradnorm\n",
        "                        delta = -torch.reshape(grad_unit, tmp_sum_grad.size()) * alpha * factor\n",
        "                        tmp_adv_images = tmp_adv_images + delta\n",
        "                    \n",
        "                    tmp_adv_images = torch.max(tmp_adv_images, min_img)\n",
        "                    tmp_adv_images = torch.min(tmp_adv_images, max_img)\n",
        "                    tmp_grads.append(tmp_sum_grad)\n",
        "                    tmp_advs.append(tmp_adv_images)\n",
        "                    tmp_losses.append(loss.data.unsqueeze(0))\n",
        "               \n",
        "                tmp_losses = torch.cat(tmp_losses)\n",
        "                # find best index\n",
        "                best_idx = submodular(target_feas, init_feas, tmp_advs, model, func['gain3'])\n",
        "                sum_grad = tmp_grads[best_idx]\n",
        "                \n",
        "                adv_images = tmp_advs[best_idx]\n",
        "                #print(tmp_losses[best_idx], best_idx)\n",
        "                adv_images = adv_images.detach().requires_grad_(True)\n",
        "            adv_images = adv_images.detach().permute(0, 2, 3, 1).cpu().numpy()\n",
        "                \n",
        "            for j in range(batch_size):\n",
        "                attacker_name = attacker_persons[l + j].split('\\t')[0]\n",
        "                _ = save_priv(adv_images[j], aligned_images[j], original_images[j], attacker_name, M[j], epsilon, 'ArcFace', 'output/exppriv')\n",
        "\n",
        "def submodular(target_feas, init_feas, tmp_advs, model, Gain):\n",
        "    tmp_advs = torch.cat(tmp_advs)\n",
        "    \n",
        "    gains = torch.zeros(size = (len(target_feas),), dtype = torch.float32)\n",
        "    tmpadv_feas = model.forward(tmp_advs)\n",
        "    for idx in range(len(tmpadv_feas)):\n",
        "        gains[idx] = Gain(tmpadv_feas[idx].unsqueeze(0), init_feas, target_feas, idx)\n",
        "    best_idx = torch.argmax(gains)\n",
        "    return best_idx\n",
        "\n",
        "def L2distance(x, y):\n",
        "\treturn torch.sqrt(torch.sum((x - y)**2, dim = 1))\n",
        "\n",
        "def Gain1(adv_fea, init_feas, target_feas, idx=0):\n",
        "    d1 = L2distance(adv_fea, init_feas)\n",
        "    d2 = torch.sum(torch.exp(d1 - L2distance(adv_fea, target_feas)))\n",
        "    return torch.log(1.0 + d2)\n",
        "\n",
        "def Gain2(adv_fea, init_feas, target_feas, idx=0):\n",
        "    d1 = L2distance(adv_fea, init_feas)\n",
        "    d2 = torch.min(torch.exp(d1 - L2distance(adv_fea, target_feas)))\n",
        "    return torch.log(1.0 + d2)\n",
        "\n",
        "def Gain3(adv_fea, init_feas, target_feas, idx=0):\n",
        "    d1 = L2distance(adv_fea, init_feas)\n",
        "    d2 = torch.max(torch.exp(d1 - L2distance(adv_fea, target_feas)))\n",
        "    return torch.log(1.0 + d2)\n",
        "\n",
        "\n",
        "if __name__ == '__main__':\n",
        "    main()"
      ]
    },
    {
      "cell_type": "markdown",
      "source": [
        "#PSNR"
      ],
      "metadata": {
        "id": "0XvkyULcq2YV"
      }
    },
    {
      "cell_type": "code",
      "source": [
        "persons = {}\n",
        "mark = ''\n",
        "with open('/content/gdrive/MyDrive/TIP-IM/data/pairs.txt', 'r') as f:\n",
        "    for pair in f.readlines()[:87]:\n",
        "        person = pair.strip()\n",
        "        person, id1, id2 = person.split('\\t')\n",
        "        if person == mark:\n",
        "          persons[person] = id2\n",
        "        else:\n",
        "          mark = person\n",
        "          persons[person] = id2\n",
        "persons"
      ],
      "metadata": {
        "colab": {
          "base_uri": "https://localhost:8080/"
        },
        "id": "Q1qH4O_muH6J",
        "outputId": "12f8a3ec-8e46-47c3-9f12-565208e94e0f"
      },
      "execution_count": null,
      "outputs": [
        {
          "output_type": "execute_result",
          "data": {
            "text/plain": [
              "{'Abel_Pacheco': '4',\n",
              " 'Akhmed_Zakayev': '3',\n",
              " 'Amber_Tamblyn': '2',\n",
              " 'Anders_Fogh_Rasmussen': '4',\n",
              " 'Angela_Bassett': '4',\n",
              " 'Ann_Veneman': '11',\n",
              " 'Anthony_Fauci': '2',\n",
              " 'Antony_Leung': '3',\n",
              " 'Anwar_Ibrahim': '2',\n",
              " 'Augusto_Pinochet': '2',\n",
              " 'Barbara_Brezigar': '2',\n",
              " 'Benjamin_Netanyahu': '5',\n",
              " 'Bernard_Law': '4',\n",
              " 'Bertrand_Bonello': '2',\n",
              " 'Bill_Frist': '5',\n",
              " 'Bob_Graham': '6',\n",
              " 'Boris_Becker': '6',\n",
              " 'Brad_Johnson': '4',\n",
              " 'Brian_Griese': '2',\n",
              " 'Candice_Bergen': '3',\n",
              " 'Carla_Myers': '2',\n",
              " 'Cathy_Freeman': '2',\n",
              " 'Chang_Dae-whan': '2',\n",
              " 'Charles_Grassley': '2',\n",
              " 'Clare_Short': '4',\n",
              " 'Corinne_Coman': '2',\n",
              " 'Dai_Bachtiar': '2',\n",
              " 'Dale_Earnhardt_Jr': '3',\n",
              " 'David_Caruso': '2',\n",
              " 'Demi_Moore': '3',\n",
              " 'Dick_Vermeil': '2',\n",
              " 'Doris_Roberts': '3',\n",
              " 'Drew_Barrymore': '2',\n",
              " 'Edmund_Stoiber': '11',\n",
              " 'Elinor_Caplan': '2',\n",
              " 'Emmanuelle_Beart': '3',\n",
              " 'Federico_Trillo': '3',\n",
              " 'Francis_Ford_Coppola': '2',\n",
              " 'Fred_Thompson': '3',\n",
              " 'Garry_Trudeau': '2',\n",
              " 'Gary_Williams': '2',\n",
              " 'Gene_Robinson': '3',\n",
              " 'George_Galloway': '4',\n",
              " 'Geraldine_Chaplin': '4',\n",
              " 'Gerardo_Gambala': '2',\n",
              " 'Gian_Marco': '3',\n",
              " 'Gillian_Anderson': '2',\n",
              " 'Gordon_Brown': '13',\n",
              " 'Grant_Hackett': '5',\n",
              " 'Gray_Davis': '26'}"
            ]
          },
          "metadata": {},
          "execution_count": 23
        }
      ]
    },
    {
      "cell_type": "code",
      "source": [
        "import cv2\n",
        "\n",
        "avg_psnr = 0\n",
        "max_psnr = -999\n",
        "min_psnr = 999\n",
        "psnr_list = []\n",
        "\n",
        "for name in persons:\n",
        "  #img1 = cv2.imread('/content/gdrive/MyDrive/TIP-IM/output-ArcFace-gamma0.1/exppriv/'+name+'-12.png')#.astype(np.float32)\n",
        "  #img1 = cv2.imread('/content/gdrive/MyDrive/TIP-IM/output/exppriv/'+name+'-12.png')#.astype(np.float32) #ArcFace-gamma0.0\n",
        "  #img1 = cv2.imread('/content/gdrive/MyDrive/output-CosFace-gamma0.0/exppriv/'+name+'-12.png')#.astype(np.float32)\n",
        "  #img1 = cv2.imread('/content/gdrive/MyDrive/output-CosFace-gamma0.1/exppriv/'+name+'-12.png')#.astype(np.float32)\n",
        "  #img1 = cv2.imread('/content/gdrive/MyDrive/TIP-IM/exppriv_SphereFace_0.1/exppriv_SphereFace_0.1/'+name+'-12.png')#.astype(np.float32)\n",
        "  img1 = cv2.imread('/content/gdrive/MyDrive/TIP-IM/exppriv_SphereFace/exppriv_SphereFace/'+name+'-12.png')#.astype(np.float32)\n",
        "\n",
        "  img2 = cv2.imread('/content/gdrive/MyDrive/TIP-IM/data/LFW/{}/{}_{:04d}.jpg'.format(name, name, int(persons[name])))\n",
        "  psnr = cv2.PSNR(img1, img2)\n",
        "  psnr_list.append(psnr)\n",
        "\n",
        "  if (psnr >= max_psnr):\n",
        "    max_psnr = psnr\n",
        "  if (psnr <= min_psnr):\n",
        "    min_psnr = psnr\n",
        "  avg_psnr += psnr\n",
        "\n",
        "print(\"===> Avg. PSNR: {:.4f} dB\".format(avg_psnr / 50))\n",
        "print(\"===> Max PSNR: {:.4f} dB\".format(max_psnr))\n",
        "print(\"===> Min PSNR: {:.4f} dB\".format(min_psnr))"
      ],
      "metadata": {
        "id": "-5iwFUM8q32U",
        "colab": {
          "base_uri": "https://localhost:8080/"
        },
        "outputId": "fb5fb5ad-08e6-4a54-c1f6-cd6363135cc6"
      },
      "execution_count": null,
      "outputs": [
        {
          "output_type": "stream",
          "name": "stdout",
          "text": [
            "===> Avg. PSNR: 35.9228 dB\n",
            "===> Max PSNR: 37.9104 dB\n",
            "===> Min PSNR: 32.4009 dB\n"
          ]
        }
      ]
    },
    {
      "cell_type": "code",
      "source": [
        "import matplotlib.pyplot as plt\n",
        "\n",
        "labels = [\"ArcFace\", \"CosFace\", \"SphereFace\"]\n",
        "gamma1 = [39.0560, 38.4550, 38.4526] #0.1 gamma\n",
        "gamma0 = [35.8014, 35.9092, 35.9228] #0.0 gamma\n",
        "\n",
        "x = np.arange(len(labels))  # the label locations\n",
        "width = 0.25  # the width of the bars\n",
        "\n",
        "fig, ax = plt.subplots(figsize=(20, 10))\n",
        "rects1 = ax.bar(x - width, gamma1, width, label='gamma = 0.1')\n",
        "rects2 = ax.bar(x, gamma0, width, label='gamma = 0.0')\n",
        "\n",
        "# Add some text for labels, title and custom x-axis tick labels, etc.\n",
        "ax.set_ylabel('PSNR Value', fontsize=20)\n",
        "ax.set_title('PSNR Value for ArcFace, CosFace, and SphereFace', fontsize=30)\n",
        "ax.set_xticks(x)\n",
        "ax.set_xticklabels(labels, fontsize=17)\n",
        "ax.legend(prop={'size': 15})\n",
        "\n",
        "\n",
        "def autolabel(rects):\n",
        "    \"\"\"Attach a text label above each bar in *rects*, displaying its height.\"\"\"\n",
        "    for rect in rects:\n",
        "        height = rect.get_height()\n",
        "        ax.annotate('{}'.format(height),\n",
        "                    xy=(rect.get_x() + rect.get_width() / 2, height),\n",
        "                    xytext=(0, 3),  # 3 points vertical offset\n",
        "                    textcoords=\"offset points\",\n",
        "                    ha='center', va='bottom', fontsize=17)\n",
        "\n",
        "\n",
        "autolabel(rects1)\n",
        "autolabel(rects2)\n",
        "\n",
        "fig.tight_layout()\n",
        "\n",
        "plt.show()"
      ],
      "metadata": {
        "colab": {
          "base_uri": "https://localhost:8080/",
          "height": 729
        },
        "id": "J0tPu62CztNS",
        "outputId": "2a5bb2b6-8d69-4c73-8e5a-8b8e4123582d"
      },
      "execution_count": null,
      "outputs": [
        {
          "output_type": "display_data",
          "data": {
            "text/plain": [
              "<Figure size 1440x720 with 1 Axes>"
            ],
            "image/png": "[encoded data removed]"
          },
          "metadata": {
            "needs_background": "light"
          }
        }
      ]
    },
    {
      "cell_type": "markdown",
      "source": [
        "# SSIM"
      ],
      "metadata": {
        "id": "pMTt4WIkteuL"
      }
    },
    {
      "cell_type": "code",
      "source": [
        "persons = {}\n",
        "mark = ''\n",
        "with open('/content/gdrive/MyDrive/TIP-IM/data/pairs.txt', 'r') as f:\n",
        "    for pair in f.readlines()[:87]:\n",
        "        person = pair.strip()\n",
        "        person, id1, id2 = person.split('\\t')\n",
        "        if person == mark:\n",
        "          persons[person] = id2\n",
        "        else:\n",
        "          mark = person\n",
        "          persons[person] = id2\n",
        "persons"
      ],
      "metadata": {
        "colab": {
          "base_uri": "https://localhost:8080/"
        },
        "id": "xAXr7Q2W0rjH",
        "outputId": "3c2623b9-87a0-48bf-b26f-dafae377039b"
      },
      "execution_count": null,
      "outputs": [
        {
          "output_type": "execute_result",
          "data": {
            "text/plain": [
              "{'Abel_Pacheco': '4',\n",
              " 'Akhmed_Zakayev': '3',\n",
              " 'Amber_Tamblyn': '2',\n",
              " 'Anders_Fogh_Rasmussen': '4',\n",
              " 'Angela_Bassett': '4',\n",
              " 'Ann_Veneman': '11',\n",
              " 'Anthony_Fauci': '2',\n",
              " 'Antony_Leung': '3',\n",
              " 'Anwar_Ibrahim': '2',\n",
              " 'Augusto_Pinochet': '2',\n",
              " 'Barbara_Brezigar': '2',\n",
              " 'Benjamin_Netanyahu': '5',\n",
              " 'Bernard_Law': '4',\n",
              " 'Bertrand_Bonello': '2',\n",
              " 'Bill_Frist': '5',\n",
              " 'Bob_Graham': '6',\n",
              " 'Boris_Becker': '6',\n",
              " 'Brad_Johnson': '4',\n",
              " 'Brian_Griese': '2',\n",
              " 'Candice_Bergen': '3',\n",
              " 'Carla_Myers': '2',\n",
              " 'Cathy_Freeman': '2',\n",
              " 'Chang_Dae-whan': '2',\n",
              " 'Charles_Grassley': '2',\n",
              " 'Clare_Short': '4',\n",
              " 'Corinne_Coman': '2',\n",
              " 'Dai_Bachtiar': '2',\n",
              " 'Dale_Earnhardt_Jr': '3',\n",
              " 'David_Caruso': '2',\n",
              " 'Demi_Moore': '3',\n",
              " 'Dick_Vermeil': '2',\n",
              " 'Doris_Roberts': '3',\n",
              " 'Drew_Barrymore': '2',\n",
              " 'Edmund_Stoiber': '11',\n",
              " 'Elinor_Caplan': '2',\n",
              " 'Emmanuelle_Beart': '3',\n",
              " 'Federico_Trillo': '3',\n",
              " 'Francis_Ford_Coppola': '2',\n",
              " 'Fred_Thompson': '3',\n",
              " 'Garry_Trudeau': '2',\n",
              " 'Gary_Williams': '2',\n",
              " 'Gene_Robinson': '3',\n",
              " 'George_Galloway': '4',\n",
              " 'Geraldine_Chaplin': '4',\n",
              " 'Gerardo_Gambala': '2',\n",
              " 'Gian_Marco': '3',\n",
              " 'Gillian_Anderson': '2',\n",
              " 'Gordon_Brown': '13',\n",
              " 'Grant_Hackett': '5',\n",
              " 'Gray_Davis': '26'}"
            ]
          },
          "metadata": {},
          "execution_count": 36
        }
      ]
    },
    {
      "cell_type": "code",
      "source": [
        "from skimage.metrics import structural_similarity as ssim\n",
        "\n",
        "avg_ssim = 0\n",
        "max_ssim = -2\n",
        "min_ssim = 2\n",
        "ssim_list = []\n",
        "\n",
        "for name in persons:\n",
        "  #img1 = cv2.imread('/content/gdrive/MyDrive/TIP-IM/output/exppriv/'+name+'-12.png')#.astype(np.float32)    #ArcFace-gamma0.0\n",
        "  #img1 = cv2.imread('/content/gdrive/MyDrive/TIP-IM/output-ArcFace-gamma0.1/exppriv/'+name+'-12.png')#.astype(np.float32)\n",
        "  #img1 = cv2.imread('/content/gdrive/MyDrive/output-CosFace-gamma0.0/exppriv/'+name+'-12.png')#.astype(np.float32)\n",
        "  #img1 = cv2.imread('/content/gdrive/MyDrive/output-CosFace-gamma0.1/exppriv/'+name+'-12.png')#.astype(np.float32)\n",
        "  #img1 = cv2.imread('/content/gdrive/MyDrive/TIP-IM/exppriv_SphereFace_0.1/exppriv_SphereFace_0.1/'+name+'-12.png')#.astype(np.float32)\n",
        "  img1 = cv2.imread('/content/gdrive/MyDrive/TIP-IM/exppriv_SphereFace/exppriv_SphereFace/'+name+'-12.png')#.astype(np.float32)\n",
        "\n",
        "\n",
        "  img2 = cv2.imread('/content/gdrive/MyDrive/TIP-IM/data/LFW/{}/{}_{:04d}.jpg'.format(name, name, int(persons[name])))\n",
        "  SSIM = ssim(img1, img2, multichannel = True)\n",
        "  ssim_list.append(SSIM)\n",
        "\n",
        "  if (SSIM >= max_ssim):\n",
        "    max_ssim = SSIM\n",
        "  elif (SSIM <= min_ssim):\n",
        "    min_ssim = SSIM\n",
        "  avg_ssim += SSIM\n",
        "  \n",
        "\n",
        "print(\"===> Avg. SSIM: {:.4f} dB\".format(avg_ssim / 50))\n",
        "print(\"===> Max SSIM: {:.4f} dB\".format(max_ssim))\n",
        "print(\"===> Min SSIM: {:.4f} dB\".format(min_ssim))"
      ],
      "metadata": {
        "id": "EQTMAX5arIn_",
        "colab": {
          "base_uri": "https://localhost:8080/"
        },
        "outputId": "96534b0f-9daa-4e38-d43d-991a6b624349"
      },
      "execution_count": null,
      "outputs": [
        {
          "output_type": "stream",
          "name": "stdout",
          "text": [
            "===> Avg. SSIM: 0.9623 dB\n",
            "===> Max SSIM: 0.9835 dB\n",
            "===> Min SSIM: 0.9327 dB\n"
          ]
        }
      ]
    },
    {
      "cell_type": "code",
      "source": [
        "import matplotlib.pyplot as plt\n",
        "\n",
        "labels = [\"ArcFace\", \"CosFace\", \"SphereFace\"]\n",
        "gamma1 = [0.9887, 0.9870, 0.9870] #0.1 gamma\n",
        "gamma0 = [0.9607, 0.9621, 0.9623] #0.0 gamma\n",
        "\n",
        "x = np.arange(len(labels))  # the label locations\n",
        "width = 0.25  # the width of the bars\n",
        "\n",
        "fig, ax = plt.subplots(figsize=(15, 12))\n",
        "rects1 = ax.bar(x - width, gamma1, width, label='gamma = 0.1')\n",
        "rects2 = ax.bar(x, gamma0, width, label='gamma = 0.0')\n",
        "\n",
        "# Add some text for labels, title and custom x-axis tick labels, etc.\n",
        "ax.set_ylabel('SSIM Value', fontsize=20)\n",
        "ax.set_title('SSIM Value for ArcFace, CosFace, and SphereFace', fontsize=30)\n",
        "ax.set_xticks(x)\n",
        "ax.set_xticklabels(labels, fontsize=17)\n",
        "ax.legend(prop={'size': 10})\n",
        "\n",
        "\n",
        "def autolabel(rects):\n",
        "    \"\"\"Attach a text label above each bar in *rects*, displaying its height.\"\"\"\n",
        "    for rect in rects:\n",
        "        height = rect.get_height()\n",
        "        ax.annotate('{}'.format(height),\n",
        "                    xy=(rect.get_x() + rect.get_width() / 2, height),\n",
        "                    xytext=(0, 3),  # 3 points vertical offset\n",
        "                    textcoords=\"offset points\",\n",
        "                    ha='center', va='bottom', fontsize=17)\n",
        "\n",
        "\n",
        "autolabel(rects1)\n",
        "autolabel(rects2)\n",
        "\n",
        "fig.tight_layout()\n",
        "\n",
        "plt.show()"
      ],
      "metadata": {
        "id": "RI9ssPH3DAr2"
      },
      "execution_count": null,
      "outputs": []
    },
    {
      "cell_type": "markdown",
      "source": [
        "#Rank-N-T & Rank-N-UT Evaluation"
      ],
      "metadata": {
        "id": "h36nP27IkFKn"
      }
    },
    {
      "cell_type": "code",
      "source": [
        "attacker_persons = []\n",
        "with open('/content/gdrive/MyDrive/TIP-IM/data/pairs.txt', 'r') as f:\n",
        "    for pair in f.readlines()[:87]:\n",
        "    #for pair in f.readlines()[:10]:\n",
        "        attacker_person = pair.strip()\n",
        "        attacker_persons.append(attacker_person)\n",
        "\n",
        "\n",
        "# attack_name, id1, id2 = attacker_persons[j].split('\\t')\n",
        "# original_img = imread(\"/content/gdrive/MyDrive/TIP-IM/data/LFW/{}/{}_{:04d}.jpg\".format(attack_name, attack_name, int(id2))).astype(np.float32)\n",
        "model, img_shape = getmodel('SphereFace') # White-box Model\n",
        "batch_size = 1\n",
        "n = len(attacker_persons)\n",
        "m = 1.0\n",
        "names = []\n",
        "for i in tqdm(range(0, n, batch_size)):\n",
        "    l, r = i, min(i + batch_size, n)\n",
        "    \n",
        "    for j in range(l, r):\n",
        "        attack_name, id1, id2 = attacker_persons[j].split('\\t')\n",
        "        names.append(attack_name)\n",
        "        \n",
        "        \n",
        "    \n",
        "names = set(names)\n",
        "names = list(names)\n",
        "print(len(names))"
      ],
      "metadata": {
        "colab": {
          "base_uri": "https://localhost:8080/"
        },
        "id": "WpLQ_KVNDA5X",
        "outputId": "4d8681cf-4df8-4cb2-9c3e-aabfeb8fa4f1"
      },
      "execution_count": null,
      "outputs": [
        {
          "output_type": "stream",
          "name": "stdout",
          "text": [
            "Load existing checkpoint\n",
            "No existing checkpoint, now downloading online\n",
            "Finish downloading\n",
            "Load checkpoint\n"
          ]
        },
        {
          "output_type": "stream",
          "name": "stderr",
          "text": [
            "100%|██████████| 87/87 [00:00<00:00, 399239.00it/s]"
          ]
        },
        {
          "output_type": "stream",
          "name": "stdout",
          "text": [
            "50\n"
          ]
        },
        {
          "output_type": "stream",
          "name": "stderr",
          "text": [
            "\n"
          ]
        }
      ]
    },
    {
      "cell_type": "code",
      "source": [
        "gallery_set = []\n",
        "gallery = os.listdir('/content/gdrive/MyDrive/TIP-IM/gallery')\n",
        "for image in os.listdir('/content/gdrive/MyDrive/TIP-IM/gallery'):\n",
        "  gallery_img = imread('/content/gdrive/MyDrive/TIP-IM/gallery/'+image).astype(np.float32)\n",
        "  align_target_img, _= align(gallery_img)\n",
        "  align_target_img = cv2.resize(align_target_img, (img_shape[1], img_shape[0]))\n",
        "  gallery_feas = inference(align_target_img, model, image_shape = img_shape)\n",
        "  gallery_feas = Variable(gallery_feas)\n",
        "  gallery_feas = gallery_feas.cpu().data\n",
        "  gallery_feas = np.array(gallery_feas)\n",
        "  gallery_set.append(gallery_feas)\n",
        "gallery_set = np.array(gallery_set).reshape(233,-1)\n",
        "print(gallery_set.shape)"
      ],
      "metadata": {
        "colab": {
          "base_uri": "https://localhost:8080/"
        },
        "id": "_rJBjyP3DC4g",
        "outputId": "21457302-8c58-40e9-aff1-cf9ca0258691"
      },
      "execution_count": null,
      "outputs": [
        {
          "output_type": "stream",
          "name": "stderr",
          "text": [
            "/usr/local/lib/python3.7/dist-packages/ipykernel_launcher.py:4: DeprecationWarning: `imread` is deprecated!\n",
            "`imread` is deprecated in SciPy 1.0.0, and will be removed in 1.2.0.\n",
            "Use ``imageio.imread`` instead.\n",
            "  after removing the cwd from sys.path.\n"
          ]
        },
        {
          "output_type": "stream",
          "name": "stdout",
          "text": [
            "(233, 512)\n"
          ]
        }
      ]
    },
    {
      "cell_type": "code",
      "source": [
        "protected_set = []\n",
        "for name in names:\n",
        "  protected_img = imread('/content/gdrive/MyDrive/output-ArcFace-gamma0.007/exppriv/'+name+'-12.png').astype(np.float32) #0.001\n",
        "  protected_feas = inference(protected_img, model, image_shape = img_shape)\n",
        "  protected_feas = Variable(protected_feas)\n",
        "  protected_feas = protected_feas.cpu().data\n",
        "  protected_feas = np.array(protected_feas)\n",
        "  protected_set.append(protected_feas)\n",
        "# protected_set = np.array(protected_set)"
      ],
      "metadata": {
        "colab": {
          "base_uri": "https://localhost:8080/"
        },
        "id": "7aBnYyeNDDJP",
        "outputId": "d7965753-0ee7-4f0f-e717-22c8a2df6383"
      },
      "execution_count": null,
      "outputs": [
        {
          "output_type": "stream",
          "name": "stderr",
          "text": [
            "/usr/local/lib/python3.7/dist-packages/ipykernel_launcher.py:3: DeprecationWarning: `imread` is deprecated!\n",
            "`imread` is deprecated in SciPy 1.0.0, and will be removed in 1.2.0.\n",
            "Use ``imageio.imread`` instead.\n",
            "  This is separate from the ipykernel package so we can avoid doing imports until\n"
          ]
        }
      ]
    },
    {
      "cell_type": "code",
      "source": [
        "top5 = []\n",
        "for pro_img in protected_set:\n",
        "  distance = []\n",
        "  min = []\n",
        "  for gal_img in gallery_set:\n",
        "    dist = np.linalg.norm(pro_img - gal_img)\n",
        "    distance.append(dist)\n",
        "\n",
        "  for i in range(5):\n",
        "    \n",
        "    ind = np.argmin(distance)\n",
        "    min.append(ind)\n",
        "    distance[ind] = 9999\n",
        "  top5.append(np.array(min))\n",
        "print(top5)"
      ],
      "metadata": {
        "colab": {
          "base_uri": "https://localhost:8080/"
        },
        "id": "Vh0R6_0ADEQ9",
        "outputId": "dc5b1303-a93a-446b-af7a-7bd48721eec3"
      },
      "execution_count": null,
      "outputs": [
        {
          "output_type": "stream",
          "name": "stdout",
          "text": [
            "[array([ 42,  40, 210,  91,  56]), array([101,  37,  17,  69, 172]), array([188, 115, 122, 111, 218]), array([162,  27,  29,  45,  48]), array([213,   1,  75, 195, 190]), array([187, 178, 181, 130,  75]), array([72, 70, 40, 91, 55]), array([121,  95, 114,  98, 120]), array([226,  12, 106,  30, 100]), array([231, 141, 160, 232, 148]), array([150,  10,  44,  32,   2]), array([221, 218, 219, 102, 188]), array([180, 165, 199, 227,  25]), array([206, 115, 211, 188,  47]), array([230, 200, 112,  64, 169]), array([166, 209,   9, 225, 164]), array([152, 117, 184, 141, 183]), array([220, 128,  14, 189, 144]), array([ 71,  85, 227, 104,  25]), array([133, 132, 232, 231,  84]), array([167, 176,   3,   7,  86]), array([189,  83, 177,  97, 179]), array([191,  96, 121, 180, 109]), array([146, 145,  23,  58, 120]), array([ 53,  28,  43, 227,  82]), array([158, 159,  83,  97, 179]), array([225, 183, 170, 196,   0]), array([182, 103, 130,  34, 104]), array([47, 34, 15, 21, 24]), array([38, 19, 21, 67, 47]), array([216, 215,  36,  83, 161]), array([ 99,  88, 170, 215, 148]), array([44, 46, 14, 10, 68]), array([214,  33, 151, 194,  35]), array([203, 129, 202, 224, 101]), array([ 89,  91,  55,  56, 198]), array([177, 179,  65,  97,  83]), array([229, 228, 110, 217,  90]), array([171,  52,  78, 109,   6]), array([127, 126,  18, 192, 124]), array([139, 136, 137, 211,  64]), array([174, 201,  74,  66,  84]), array([111,  81, 115,  97, 188]), array([204, 207, 161, 164, 125]), array([118, 104, 105,  85, 183]), array([86, 61, 92, 67, 57]), array([79, 80, 39, 58, 49]), array([227, 109,  25,  82, 102]), array([ 90,  18,  77, 110, 217]), array([108,  94,  11,  75, 103])]\n"
          ]
        }
      ]
    },
    {
      "cell_type": "code",
      "source": [
        "#taeget set\n",
        "target_nums = 10\n",
        "aligned_target_imgs = []\n",
        "target_persons = []\n",
        "target_names = []\n",
        "with open('/content/gdrive/MyDrive/TIP-IM/targets/target_attacks.txt', 'r') as f:\n",
        "    for line in f.readlines():\n",
        "        target_person = line.strip()\n",
        "        # name, id1, id2 = target_person.split('\\t')\n",
        "        # target_names.append(name)\n",
        "        target_persons.append(target_person)\n",
        "        temp = target_person.split('/')\n",
        "        target_names.append(temp[-2])\n",
        "\n",
        "for i in range(target_nums):\n",
        "    target_img = imread(target_persons[i]).astype(np.float32)\n",
        "    align_target_img, _= align(target_img)\n",
        "    align_target_img = cv2.resize(align_target_img, (img_shape[1], img_shape[0]))\n",
        "    aligned_target_imgs.append(align_target_img)\n",
        "aligned_target_imgs = np.array(aligned_target_imgs)        \n",
        "\n",
        "# extract features of targets\n",
        "target_feas = inference(aligned_target_imgs, model, image_shape = img_shape)\n",
        "target_feas = Variable(target_feas)\n",
        "\n",
        "#name of top5\n",
        "top5_name = []\n",
        "for i in top5:\n",
        "  name_list = []\n",
        "  for j in i:\n",
        "    img = gallery[j]\n",
        "    people_name, num = img.rsplit('_',1)\n",
        "    name_list.append(people_name)\n",
        "  top5_name.append(name_list)\n"
      ],
      "metadata": {
        "colab": {
          "base_uri": "https://localhost:8080/"
        },
        "id": "q7mF_--UDFc8",
        "outputId": "6ed9a29b-a35e-4ff0-cfab-6e58cf400889"
      },
      "execution_count": null,
      "outputs": [
        {
          "output_type": "stream",
          "name": "stderr",
          "text": [
            "/usr/local/lib/python3.7/dist-packages/ipykernel_launcher.py:16: DeprecationWarning: `imread` is deprecated!\n",
            "`imread` is deprecated in SciPy 1.0.0, and will be removed in 1.2.0.\n",
            "Use ``imageio.imread`` instead.\n",
            "  app.launch_new_instance()\n"
          ]
        }
      ]
    },
    {
      "cell_type": "markdown",
      "source": [
        "## Rank-5-T"
      ],
      "metadata": {
        "id": "vfOTkLBQk5H0"
      }
    },
    {
      "cell_type": "code",
      "source": [
        "#rank-n-t\n",
        "count = 0\n",
        "for i in top5_name:\n",
        "  for j in i:\n",
        "    if j in target_names:\n",
        "      count = count + 1\n",
        "      break\n",
        "print(count/50)"
      ],
      "metadata": {
        "colab": {
          "base_uri": "https://localhost:8080/"
        },
        "id": "BHcbI7ClDG7y",
        "outputId": "218fb9a9-6e40-493d-edde-bd01b1701a7d"
      },
      "execution_count": null,
      "outputs": [
        {
          "output_type": "stream",
          "name": "stdout",
          "text": [
            "0.26\n"
          ]
        }
      ]
    },
    {
      "cell_type": "markdown",
      "source": [
        "## Rank-5-UT"
      ],
      "metadata": {
        "id": "07-z1rcvk7MN"
      }
    },
    {
      "cell_type": "code",
      "source": [
        "count = 0\n",
        "for i in range(50):\n",
        "  if names[i] not in top5_name[i]:\n",
        "    count = count + 1\n",
        "print(count/50)"
      ],
      "metadata": {
        "colab": {
          "base_uri": "https://localhost:8080/"
        },
        "id": "g8JQwYE8DH6Q",
        "outputId": "ff7e7ad6-925c-4376-b06f-b93614e25952"
      },
      "execution_count": null,
      "outputs": [
        {
          "output_type": "stream",
          "name": "stdout",
          "text": [
            "0.0\n"
          ]
        }
      ]
    },
    {
      "cell_type": "markdown",
      "source": [
        "## Rank-1-T"
      ],
      "metadata": {
        "id": "m3bi9gBHk8XX"
      }
    },
    {
      "cell_type": "code",
      "source": [
        "count = 0\n",
        "for i in top5_name:\n",
        "  if i[0] in target_names:\n",
        "    count = count + 1\n",
        "print(count/50)"
      ],
      "metadata": {
        "colab": {
          "base_uri": "https://localhost:8080/"
        },
        "id": "CRZExTuzDJBf",
        "outputId": "8b49c989-e0ae-4260-d0ef-44c708c5546b"
      },
      "execution_count": null,
      "outputs": [
        {
          "output_type": "stream",
          "name": "stdout",
          "text": [
            "0.04\n"
          ]
        }
      ]
    },
    {
      "cell_type": "markdown",
      "source": [
        "## Rank-1-UT"
      ],
      "metadata": {
        "id": "kxoSPrAYk9ik"
      }
    },
    {
      "cell_type": "code",
      "source": [
        "count = 0\n",
        "for i in range(50):\n",
        "  if names[i] != top5_name[i][0]:\n",
        "    count = count + 1\n",
        "print(count/50)"
      ],
      "metadata": {
        "colab": {
          "base_uri": "https://localhost:8080/"
        },
        "id": "dGhr3-1vDJ9f",
        "outputId": "3da6ed6a-c278-4f19-eb46-d21972c06f3c"
      },
      "execution_count": null,
      "outputs": [
        {
          "output_type": "stream",
          "name": "stdout",
          "text": [
            "0.0\n"
          ]
        }
      ]
    },
    {
      "cell_type": "code",
      "source": [],
      "metadata": {
        "id": "e58T9C7NDaYt"
      },
      "execution_count": null,
      "outputs": []
    }
  ]
}